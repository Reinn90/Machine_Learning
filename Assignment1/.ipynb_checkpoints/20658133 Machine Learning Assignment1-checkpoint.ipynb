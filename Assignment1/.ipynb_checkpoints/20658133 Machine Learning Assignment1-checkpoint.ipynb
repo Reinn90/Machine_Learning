{
 "cells": [
  {
   "cell_type": "markdown",
   "id": "6657d6d2-2e78-453d-a5b4-819bdee9acfe",
   "metadata": {},
   "source": [
    "**Nowell Kevin Reyes - 20658133**"
   ]
  },
  {
   "cell_type": "markdown",
   "id": "d124ee40-654a-4471-929b-4e9af936223d",
   "metadata": {},
   "source": [
    "# Task 1. Regression "
   ]
  },
  {
   "cell_type": "markdown",
   "id": "04958775-ed16-4f5e-ba5f-9493feec9e63",
   "metadata": {},
   "source": [
    "**Motivation**: Using the dataset `bloodpressure-23.csv`, we will compare different regression models and choose the \"best model fit\" that allows us to predict systolic blood pressure accurately based on various features.\n",
    "\n",
    "Our goal is to identify a regression model that provides the lowest Mean RMSE (Root Mean Square Error), which indicates the model's predictive accuracy. \n",
    "\n",
    "\n"
   ]
  },
  {
   "cell_type": "markdown",
   "id": "df286d8c-61b6-476a-98c0-bf1232fa95c4",
   "metadata": {},
   "source": [
    "## Blood pressure dataset\n",
    "Our first task is to load the data and view its properties. We will also import the `numpy` and `pandas` and `matplotlib` libraries to use for the rest of the exercise. \n",
    "\n",
    "*Note to the marker*: \n",
    "\n",
    "1. I have also included the `os` module to ensure that the workbook will load in the same folder as the data file (in case of issues).\n",
    "\n"
   ]
  },
  {
   "cell_type": "code",
   "execution_count": 1,
   "id": "cddc2e7d-835f-439b-8550-23731482da9d",
   "metadata": {},
   "outputs": [],
   "source": [
    "# Import required libraries\n",
    "import numpy as np\n",
    "import pandas as pd\n",
    "import os\n",
    "os.chdir('.') # set working directory to current folder\n"
   ]
  },
  {
   "cell_type": "markdown",
   "id": "7714f685-e79a-4ed8-9ffd-dccdbc5dc2a3",
   "metadata": {},
   "source": [
    "2. For **reproducibility**, keep the same seed value."
   ]
  },
  {
   "cell_type": "code",
   "execution_count": 2,
   "id": "a31e9ca9-8e06-41f4-bcc7-49734e696ea4",
   "metadata": {},
   "outputs": [
    {
     "name": "stdout",
     "output_type": "stream",
     "text": [
      "Index(['ID-NUMBER', 'AGE', 'ED-LEVEL', 'SMOKING STATUS', 'EXERCISE', 'WEIGHT',\n",
      "       'SERUM-CHOL', 'SYSTOLIC', 'IQ', 'SODIUM', 'GENDER', 'MARITAL-STATUS',\n",
      "       'NAME'],\n",
      "      dtype='object')\n",
      "(100, 13)\n",
      "   ID-NUMBER  AGE  ED-LEVEL  SMOKING STATUS  EXERCISE  WEIGHT  SERUM-CHOL  \\\n",
      "0          1   27         2               1         1     120         193   \n",
      "1          2   18         1               0         1     145         210   \n",
      "2          3   32         2               0         0     118         196   \n",
      "\n",
      "   SYSTOLIC   IQ  SODIUM GENDER MARITAL-STATUS  \\\n",
      "0       126  118     136      F              M   \n",
      "1       120  105     137      M              S   \n",
      "2       128  115     135      F              M   \n",
      "\n",
      "                                                NAME  \n",
      "0                            Braund, Mr. Owen Harris  \n",
      "1  Cumings, Mrs. John Bradley (Florence Briggs Th...  \n",
      "2                             Heikkinen, Miss. Laina  \n"
     ]
    }
   ],
   "source": [
    "# Set a random seed for reproducibility\n",
    "random_seed = 3032\n",
    "np.random.seed(random_seed)\n",
    "\n",
    "# load the data\n",
    "df = pd.read_csv(\"bloodpressure-23.csv\")\n",
    "\n",
    "# View the column headers\n",
    "print(df.columns)\n",
    "\n",
    "# Dimension\n",
    "print(df.shape)\n",
    "\n",
    "# View the top of the data\n",
    "print(df.head(3))"
   ]
  },
  {
   "cell_type": "markdown",
   "id": "d82e2a54-f56f-4a13-b887-aa8ac8ea264a",
   "metadata": {},
   "source": [
    "## Polynomial Regression\n",
    "This task requires us to do the following:\n",
    "\n",
    "1. Create polynomial regression models, to predict systolic pressure using the SERUM-CHOL feature, for degrees varying from 1 to 14. \n",
    "2. Perform 10-fold cross validation.\n",
    "3. Calculate its square roots of the mean square errors (RMSE), and the mean RMSE.\n",
    "4. Display the mean RMSEs for the 14 different degrees. \n",
    "5. Produce a cross validation error plot using the mean RMSE with 1 to 14 different degrees."
   ]
  },
  {
   "cell_type": "markdown",
   "id": "e1d739a8-6bbb-47fa-9b30-14e698ab7c6f",
   "metadata": {},
   "source": [
    "We will now import the required libraries from `sklearn` to create a polynomial model with cross validation and `matplotlib` to plot our cross-validation error plot"
   ]
  },
  {
   "cell_type": "code",
   "execution_count": 3,
   "id": "e4e01750-f041-4d83-a960-80c0baa476fd",
   "metadata": {},
   "outputs": [],
   "source": [
    "# import required libraries\n",
    "from sklearn.pipeline import Pipeline\n",
    "from sklearn.preprocessing import PolynomialFeatures\n",
    "from sklearn.linear_model import LinearRegression\n",
    "from sklearn.metrics import mean_squared_error\n",
    "from sklearn.model_selection import train_test_split\n",
    "from sklearn.model_selection import cross_val_score\n",
    "import matplotlib.pyplot as plt"
   ]
  },
  {
   "cell_type": "markdown",
   "id": "831ba779-cbc4-44ed-b31d-e94b70860a8c",
   "metadata": {},
   "source": [
    "Since we're only using the `SERUM-CHOL` feature to predict systolic pressure, we do not need to remove the ID-number column from the data and directly store the column values into our feature (`X`) and target (`y`) variables. We will also perform a training/testing split of 80/20 ratio."
   ]
  },
  {
   "cell_type": "code",
   "execution_count": 4,
   "id": "30ee237a-e394-48ae-96fe-eaad91e1c8a1",
   "metadata": {},
   "outputs": [],
   "source": [
    "# Extract the required fields \n",
    "X = df[['SERUM-CHOL']]   # features\n",
    "y = df['SYSTOLIC']       # target\n",
    "\n",
    "# Split the data into training and validation sets\n",
    "X_train, X_val, y_train, y_val = train_test_split(X, y, test_size=0.2)"
   ]
  },
  {
   "cell_type": "markdown",
   "id": "a20b2480-1058-4734-a3ad-eb13b7574b7f",
   "metadata": {},
   "source": [
    "Let's have a look at the relationship between the `SERUM-CHOL` feature and the `SYSTOLIC` target labels by plotting them in the same axis."
   ]
  },
  {
   "cell_type": "code",
   "execution_count": 5,
   "id": "1f9218f4-b314-4833-9601-37016e130b52",
   "metadata": {},
   "outputs": [
    {
     "data": {
      "image/png": "[encoded data removed]",
      "text/plain": [
       "<Figure size 600x400 with 1 Axes>"
      ]
     },
     "metadata": {},
     "output_type": "display_data"
    }
   ],
   "source": [
    "# Plot SERUM-CHOL vs SYSTOLIC\n",
    "plt.figure(figsize=(6,4))\n",
    "plt.plot(X,y,'bo', ms = 2.0)  \n",
    "plt.axis([0,350,0,250])\n",
    "plt.xlabel(\"SERUM-CHOL\")\n",
    "plt.ylabel(\"SYSTOLIC\")\n",
    "plt.title(\"Serum-chol vs Systolic\")\n",
    "plt.show()"
   ]
  },
  {
   "cell_type": "markdown",
   "id": "fd954475-514d-499d-8dfc-649a56055c42",
   "metadata": {},
   "source": [
    "As we can see from the plot above, it's hard to make a conclusion as to which type of regression will fit the data, nor what the intercept and coefficients are. Therefore we will conduct a couple of training models to see which one is \"best fit\".\n",
    "\n",
    "We will now make a list of `degrees` from 1-14 for our polynomial model, and a dictionary of\n",
    "`mean_rmse` to store the RMSE."
   ]
  },
  {
   "cell_type": "code",
   "execution_count": 6,
   "id": "1ee03caa-02e8-4247-aaf8-84f3ec913e82",
   "metadata": {},
   "outputs": [],
   "source": [
    "# list of integers from 1-14 representing degrees\n",
    "degrees = list(range(1,15)) \n",
    "# dict to store RMSE\n",
    "mean_rmse = {}     "
   ]
  },
  {
   "cell_type": "markdown",
   "id": "002b1ee5-fa2e-4277-aff3-8f116e1dec18",
   "metadata": {},
   "source": [
    "We will create a loop that computes the RMSE of a polynomial regression model for varying degrees from 1-14 using `Pipeline`, `PolynomialFeatures` and `LinearRegression`."
   ]
  },
  {
   "cell_type": "code",
   "execution_count": 7,
   "id": "5b0fde80-0238-43c1-963f-26ba5091480e",
   "metadata": {},
   "outputs": [],
   "source": [
    "# Create polynomial regression models of degrees 1-14 and record the mean RMSE\n",
    "for degree in degrees:\n",
    "    # train a polynomial model\n",
    "    polynomial_regression = Pipeline([\n",
    "            (\"poly_features\", PolynomialFeatures(degree = degree, include_bias=False)),\n",
    "            (\"lin_reg\", LinearRegression()),\n",
    "        ])\n",
    "    # Perform 10-fold cross validation and store the RMSE\n",
    "    rmse = np.sqrt(-cross_val_score(polynomial_regression, X_train, y_train, \n",
    "                                    scoring = 'neg_mean_squared_error',\n",
    "                                    cv = 10))\n",
    "    # store the mean rmse\n",
    "    mean_rmse[degree] = np.mean(rmse)"
   ]
  },
  {
   "cell_type": "markdown",
   "id": "0220c875-dd76-4176-9fd7-b1e926540064",
   "metadata": {},
   "source": [
    "Let's look at the RMSE of varying degrees of the polynomial..."
   ]
  },
  {
   "cell_type": "code",
   "execution_count": 8,
   "id": "e745128f-8fa5-43df-9ba9-d2621745a711",
   "metadata": {},
   "outputs": [
    {
     "name": "stdout",
     "output_type": "stream",
     "text": [
      "Degree 1: Mean RMSE = 11.950612452651914\n",
      "Degree 2: Mean RMSE = 12.037903178410549\n",
      "Degree 3: Mean RMSE = 12.54244459451836\n",
      "Degree 4: Mean RMSE = 13.932942960531971\n",
      "Degree 5: Mean RMSE = 13.81501137078204\n",
      "Degree 6: Mean RMSE = 15.094340331406077\n",
      "Degree 7: Mean RMSE = 16.577589509369982\n",
      "Degree 8: Mean RMSE = 18.389108627768763\n",
      "Degree 9: Mean RMSE = 20.61755044998061\n",
      "Degree 10: Mean RMSE = 23.415565223701496\n",
      "Degree 11: Mean RMSE = 26.972495388650735\n",
      "Degree 12: Mean RMSE = 31.50346528421244\n",
      "Degree 13: Mean RMSE = 37.2275998249979\n",
      "Degree 14: Mean RMSE = 44.32959980030038\n"
     ]
    }
   ],
   "source": [
    "# Display the mean RMSEs for the 14 different degrees\n",
    "for degree, rmse in mean_rmse.items():\n",
    "    print(f\"Degree {degree}: Mean RMSE = {rmse}\")"
   ]
  },
  {
   "cell_type": "markdown",
   "id": "3312e5f4-6896-4049-995c-1b76cba03f8b",
   "metadata": {},
   "source": [
    "and produce a cross-validation error plot against the number of degrees.\n",
    "From here we can visualise the \"best degree\" with the minimum RMSE."
   ]
  },
  {
   "cell_type": "code",
   "execution_count": 32,
   "id": "73ea282b-2342-4e3d-af79-8b07b36ea6de",
   "metadata": {},
   "outputs": [
    {
     "ename": "SyntaxError",
     "evalue": "unterminated string literal (detected at line 13) (1009524061.py, line 13)",
     "output_type": "error",
     "traceback": [
      "\u001b[0;36m  Cell \u001b[0;32mIn[32], line 13\u001b[0;36m\u001b[0m\n\u001b[0;31m    plt.annotate(f\"         Min RMSE\\nDegree: {best_degree},\u001b[0m\n\u001b[0m                 ^\u001b[0m\n\u001b[0;31mSyntaxError\u001b[0m\u001b[0;31m:\u001b[0m unterminated string literal (detected at line 13)\n"
     ]
    }
   ],
   "source": [
    "# Create the cross-validation error plot\n",
    "plt.plot(degrees, list(mean_rmse.values()), marker='o')\n",
    "plt.xlabel(\"Degree\")\n",
    "plt.ylabel(\"Mean RMSE\")\n",
    "plt.title(\"Cross-Validation Error Plot\")\n",
    "\n",
    "# Find the best degree with the lowest RMSE\n",
    "best_degree = min(mean_rmse, key = mean_rmse.get)\n",
    "best_mean_rmse = mean_rmse[best_degree]\n",
    "print(f'Best degree: {best_degree}, RMSE: {best_mean_rmse:.6f}')\n",
    "\n",
    "# Indicate the minimum RMSE on the plot\n",
    "plt.annotate(f\"         Min RMSE\\nDegree: {best_degree}, RMSE: {best_mean_rmse:.2f}\", \n",
    "             xy = (best_degree, best_mean_rmse), \n",
    "             xytext = (best_degree, best_mean_rmse + 10), \n",
    "             arrowprops = dict(arrowstyle='->'))\n",
    "plt.show()"
   ]
  },
  {
   "cell_type": "markdown",
   "id": "caf55880-a261-4b54-a3c5-42c83648cb3a",
   "metadata": {},
   "source": [
    "### Q3 - Select the best degree and briefly explain why. Print its intercept and ceofficients"
   ]
  },
  {
   "cell_type": "markdown",
   "id": "75584787-b58b-4f1a-9a29-0f316f2624dc",
   "metadata": {},
   "source": [
    "Based on these results, the best degree appears to be **Degree 1 with a mean RMSE of 11.95**. This degree provides the lowest mean RMSE among all tested degrees, indicating that it has the best balance between model complexity and performance on the given dataset. \n",
    "\n",
    "Lower RMSE values indicate better predictive accuracy, and Degree 1 achieves the lowest RMSE, making it the most suitable choice for this polynomial regression model.\n",
    "\n",
    "It is worth noting that this is the same as a Linear regression model.\n",
    "\n",
    "We'll now use this `best_degree` as our polynomial feature to fit our training data and calculate the intercept and coefficients."
   ]
  },
  {
   "cell_type": "code",
   "execution_count": 10,
   "id": "651db0ea-cad5-4f7d-9dc0-5d432e26a48d",
   "metadata": {},
   "outputs": [
    {
     "name": "stdout",
     "output_type": "stream",
     "text": [
      "Intercept: 85.77423595998926\n",
      "Coefficients: [0.21097717]\n"
     ]
    }
   ],
   "source": [
    "# Create the best polynomial regression model\n",
    "# best_degree = 1\n",
    "best_polymodel = Pipeline([\n",
    "            (\"poly_features\", PolynomialFeatures(best_degree, \n",
    "                                                 include_bias=False)),\n",
    "            (\"lin_reg\", LinearRegression()),\n",
    "        ])\n",
    "best_polymodel.fit(X_train, y_train)\n",
    "\n",
    "# Print the intercept and coefficients\n",
    "# coefficient and intercepts acquisition taken from\n",
    "# https://scikit-learn.org/stable/modules/generated/sklearn.pipeline.Pipeline.html\n",
    "print(f\"Intercept: {best_polymodel.named_steps['lin_reg'].intercept_}\")\n",
    "print(f\"Coefficients: {best_polymodel.named_steps['lin_reg'].coef_}\")"
   ]
  },
  {
   "cell_type": "markdown",
   "id": "67c64b20-9a2c-46f9-a308-03f8b6d506bb",
   "metadata": {},
   "source": [
    "## Multiple Linear Regression\n",
    "Tasks:\n",
    "\n",
    "1. Create a multiple linear regression model to predict systolic pressure using all the relevant features.\n",
    "2.  Print its coefficients.\n",
    "3.  Perform 10-fold cross validation.\n",
    "4.  Calculate its square roots of the mean square errors (RMSE), and the mean RMSE, and display the mean RMSE."
   ]
  },
  {
   "cell_type": "markdown",
   "id": "aad17c9f-c119-4b2a-a573-c2b397a39acd",
   "metadata": {},
   "source": [
    "This time around, we will be dropping the `ID-Number`, `SYSTOLIC` and `NAME` columns before we store it in our feature variable. We will also convert the categorical variables into numerical using `pandas.getdummies()`."
   ]
  },
  {
   "cell_type": "code",
   "execution_count": 11,
   "id": "c40937aa-6458-417c-bb25-7bf9ae18cefd",
   "metadata": {},
   "outputs": [
    {
     "name": "stdout",
     "output_type": "stream",
     "text": [
      "   AGE  ED-LEVEL  SMOKING STATUS  EXERCISE  WEIGHT  SERUM-CHOL   IQ  SODIUM  \\\n",
      "0   27         2               1         1     120         193  118     136   \n",
      "1   18         1               0         1     145         210  105     137   \n",
      "2   32         2               0         0     118         196  115     135   \n",
      "3   24         2               0         1     162         208  108     142   \n",
      "4   19         1               2         0     106         188  106     133   \n",
      "\n",
      "   GENDER_M  MARITAL-STATUS_M  MARITAL-STATUS_S  MARITAL-STATUS_W  \n",
      "0         0                 1                 0                 0  \n",
      "1         1                 0                 1                 0  \n",
      "2         0                 1                 0                 0  \n",
      "3         1                 1                 0                 0  \n",
      "4         0                 0                 1                 0  \n"
     ]
    }
   ],
   "source": [
    "# drop irrelevant features like id number, names and the systolic target column\n",
    "X_ml = df.drop(columns = [\"ID-NUMBER\",\"SYSTOLIC\", \"NAME\"])\n",
    "X_ml = pd.get_dummies(X_ml, drop_first = True)\n",
    "print(X_ml.head())"
   ]
  },
  {
   "cell_type": "code",
   "execution_count": 12,
   "id": "53248021-1ae3-4afa-9e8f-12303bd3cf46",
   "metadata": {},
   "outputs": [
    {
     "name": "stdout",
     "output_type": "stream",
     "text": [
      "0    126\n",
      "1    120\n",
      "2    128\n",
      "3    129\n",
      "4    119\n",
      "Name: SYSTOLIC, dtype: int64\n"
     ]
    }
   ],
   "source": [
    "# check target variable is the same\n",
    "print(y.head())"
   ]
  },
  {
   "cell_type": "markdown",
   "id": "1cc7f16e-2fb8-4097-9112-02e3e3867f71",
   "metadata": {},
   "source": [
    "Here, we will train a `LinearRegression` model on all the training features, using 10-fold cross validation and calculate the mean rmse. As is good practice, we will split our data into a training and testing set of 80/20 ratio."
   ]
  },
  {
   "cell_type": "code",
   "execution_count": 13,
   "id": "ba41826d-b0b5-47fe-ab47-5d4060902e7f",
   "metadata": {},
   "outputs": [
    {
     "name": "stdout",
     "output_type": "stream",
     "text": [
      "Multiple Linear Regression Coefficients:\n",
      "AGE                 :   0.384928\n",
      "ED-LEVEL            :  -0.692449\n",
      "SMOKING STATUS      :   0.569310\n",
      "EXERCISE            :  -0.550453\n",
      "WEIGHT              :   0.280584\n",
      "SERUM-CHOL          :   0.005472\n",
      "IQ                  :  -0.005603\n",
      "SODIUM              :   0.192607\n",
      "GENDER_M            : -10.476664\n",
      "MARITAL-STATUS_M    :   2.093987\n",
      "MARITAL-STATUS_S    :   0.754375\n",
      "MARITAL-STATUS_W    :  -3.458270\n",
      "\n",
      "Mean RMSE for Multiple Linear Regression: 7.0448356043860985\n"
     ]
    }
   ],
   "source": [
    "# Split the data into training and validation sets\n",
    "X_train, X_val, y_train, y_val = train_test_split(X_ml, y, test_size=0.2)\n",
    "\n",
    "# Create a multiple linear regression model\n",
    "mlr_model = LinearRegression()\n",
    "\n",
    "# Perform 10-fold cross-validation and calculate RMSE values\n",
    "rmse_scores = np.sqrt(-cross_val_score(mlr_model, \n",
    "                                       X_train, y_train, \n",
    "                                       scoring='neg_mean_squared_error', \n",
    "                                       cv=10))\n",
    "\n",
    "# Print the coefficients\n",
    "mlr_model.fit(X_train, y_train)\n",
    "coefficients = mlr_model.coef_\n",
    "\n",
    "# formatting derived from https://www.geeksforgeeks.org/python-output-formatting/\n",
    "print(\"Multiple Linear Regression Coefficients:\")\n",
    "for feature, coef in zip(X_ml.columns, coefficients):\n",
    "    print(\"{:<20}: {:>10.6f}\".format(feature, coef)) \n",
    "\n",
    "# Calculate the mean RMSE\n",
    "mean_rmse = np.mean(rmse_scores)\n",
    "\n",
    "# Display the mean RMSE\n",
    "print(f\"\\nMean RMSE for Multiple Linear Regression: {mean_rmse}\")"
   ]
  },
  {
   "cell_type": "markdown",
   "id": "2dafe3d6-9fe2-4693-8f43-11dd373c98e6",
   "metadata": {},
   "source": [
    "## Multiple Ridge Regression"
   ]
  },
  {
   "cell_type": "markdown",
   "id": "ba840201-a5a9-4eff-95e8-7d5911f2e084",
   "metadata": {},
   "source": [
    "Tasks:\n",
    "\n",
    "1. Build a ridge regression model of the above (i.e. item 4) using $\\alpha$ = 0.1.\n",
    "2. Print its coefficients.\n",
    "3. Perform 10-fold cross validation.\n",
    "4. Calculate its square roots of the mean square errors (RMSE), and the mean RMSE, and display the mean RMSE."
   ]
  },
  {
   "cell_type": "markdown",
   "id": "38c1d9a1-8d7a-4afe-acf1-7e9644e5fcf7",
   "metadata": {},
   "source": [
    "To build a Ridge Regression model of the multiple linear regression above, we will need to import the `Ridge` module from `sklearn.linear_model`"
   ]
  },
  {
   "cell_type": "code",
   "execution_count": 14,
   "id": "f5d3176d-2838-4ba4-b618-0d71446e7e12",
   "metadata": {},
   "outputs": [
    {
     "name": "stdout",
     "output_type": "stream",
     "text": [
      "Ridge Regression Coefficients:\n",
      "AGE                 :   0.385524\n",
      "ED-LEVEL            :  -0.695305\n",
      "SMOKING STATUS      :   0.568694\n",
      "EXERCISE            :  -0.556791\n",
      "WEIGHT              :   0.278719\n",
      "SERUM-CHOL          :   0.005521\n",
      "IQ                  :  -0.005216\n",
      "SODIUM              :   0.193409\n",
      "GENDER_M            : -10.353278\n",
      "MARITAL-STATUS_M    :   2.094149\n",
      "MARITAL-STATUS_S    :   0.744271\n",
      "MARITAL-STATUS_W    :  -3.408719\n",
      "\n",
      "Mean RMSE for Ridge Regression: 7.035208290046232\n"
     ]
    }
   ],
   "source": [
    "from sklearn.linear_model import Ridge\n",
    "\n",
    "# Create a Ridge Regression model with alpha = 0.1\n",
    "ridge_model = Ridge(alpha = 0.1)\n",
    "\n",
    "# Perform 10-fold cross-validation and calculate RMSE values\n",
    "rmse_scores_ridge = np.sqrt(-cross_val_score(ridge_model, \n",
    "                                             X_train, y_train, \n",
    "                                             scoring='neg_mean_squared_error', \n",
    "                                             cv=10))\n",
    "\n",
    "# Fit the Ridge model to the entire dataset\n",
    "ridge_model.fit(X_train, y_train)\n",
    "\n",
    "# Print the coefficients\n",
    "coefficients_ridge = ridge_model.coef_\n",
    "\n",
    "print(\"Ridge Regression Coefficients:\")\n",
    "for feature, coef in zip(X_ml.columns, coefficients_ridge):\n",
    "    print(\"{:<20}: {:>10.6f}\".format(feature, coef)) \n",
    "    \n",
    "# Calculate the mean RMSE for Ridge Regression\n",
    "mean_rmse_ridge = np.mean(rmse_scores_ridge)\n",
    "\n",
    "# Display the mean RMSE for Ridge Regression\n",
    "print(f\"\\nMean RMSE for Ridge Regression: {mean_rmse_ridge}\")"
   ]
  },
  {
   "cell_type": "markdown",
   "id": "489b323f-d696-446a-8009-962976608a7c",
   "metadata": {},
   "source": [
    "### Q6 Select the best model of the three, and explains why briefly"
   ]
  },
  {
   "cell_type": "markdown",
   "id": "fc9d0aff-860c-4ee5-9a4c-4307ffcb06a5",
   "metadata": {},
   "source": [
    "**Results**:\n",
    "\n",
    "- Polynomial Regression (Degree 1) has a Mean RMSE of approximately 11.95.\n",
    "- Multiple Linear Regression has a Mean RMSE of approximately 7.04.\n",
    "- Ridge Regression has a Mean RMSE of approximately 7.03.\n",
    "\n",
    "Based on the Mean RMSE values, both Multiple Linear Regression and Ridge Regression outperform Polynomial Regression (Degree 1) in terms of predictive accuracy. This somewhat makes sense as there should be multiple factors that predict systolic pressure rather than just one metric (ie. serum-cholesterol levels).\n",
    "\n",
    "Among these two, Ridge Regression has a slightly lower Mean RMSE, indicating slightly better performance.\n",
    "\n",
    "Therefore, **Ridge Regression** is the best model of the three, as it provides better predictive accuracy while also helping mitigate multicollinearity and overfitting due to the regularization term introduced by the Ridge penalty ($\\alpha$ = 0.1 in this case). It strikes a good balance between model complexity and accuracy, making it a preferable choice for this dataset."
   ]
  },
  {
   "cell_type": "markdown",
   "id": "6684a2c3-d5d8-4bba-b3c8-e5a4ed1bf7dc",
   "metadata": {
    "editable": true,
    "slideshow": {
     "slide_type": ""
    },
    "tags": []
   },
   "source": [
    "# Task 2 - Classification\n",
    "**Motivation** Utilizing the MNIST dataset, which is widely recognized as a benchmark in the field of handwritten digit recognition, we aim to delve into dimensionality reduction techniques and binary classification.\n",
    "\n",
    "In this task, we will leverage Principal Component Analysis (PCA) to reduce the dimensionality of the MNIST dataset while retaining a significant portion of its variance. By focusing on distinguishing the digit \"6\" from all other digits, we simplify the problem into a binary classification task. This simplification allows us to evaluate the effectiveness of PCA and logistic regression in feature reduction and classification tasks."
   ]
  },
  {
   "cell_type": "markdown",
   "id": "b144d793-45ff-485d-b4a6-888e8219a3c5",
   "metadata": {
    "editable": true,
    "slideshow": {
     "slide_type": ""
    },
    "tags": []
   },
   "source": [
    "## MNIST dataset\n",
    "\n",
    "Let's have a look at the dataset built into `fetch_openml` in `sklearn.datasets` and load the required libraries for `PCA`, `LogisticRegression`, `accuracy_score` and `confusion_matrix`."
   ]
  },
  {
   "cell_type": "code",
   "execution_count": 15,
   "id": "2a1a626b-8234-4986-84f1-74ee7f52ee5c",
   "metadata": {},
   "outputs": [],
   "source": [
    "# Import the MNIST dataset and required libraries\n",
    "from sklearn.datasets import fetch_openml\n",
    "from sklearn.decomposition import PCA\n",
    "from sklearn.linear_model import LogisticRegression\n",
    "from sklearn.metrics import accuracy_score, confusion_matrix, ConfusionMatrixDisplay\n",
    "\n",
    "\n",
    "mnist = fetch_openml('mnist_784', version=1, as_frame=False, parser = 'auto')\n",
    "mnist.target = mnist.target.astype(np.uint8)"
   ]
  },
  {
   "cell_type": "markdown",
   "id": "e4c34c29-56bd-4056-8f05-ad9dbd8e3f29",
   "metadata": {},
   "source": [
    "From here, we need to distinguish the digit \"6\" from all other digits \"not 6\" for this binary classification problem.\n",
    "\n",
    "We will set \"6\" as `1`'s (`pos_digit`) and \"not 6\" as `0`'s to convert our target to `y_binary`."
   ]
  },
  {
   "cell_type": "code",
   "execution_count": 16,
   "id": "82375b7b-0851-4b2c-b20d-15b579ba6171",
   "metadata": {
    "editable": true,
    "slideshow": {
     "slide_type": ""
    },
    "tags": []
   },
   "outputs": [
    {
     "name": "stdout",
     "output_type": "stream",
     "text": [
      "[0 0 0 ... 0 0 1]\n",
      "Data dimensions: (70000, 784)\n",
      "Target dimensions: (70000,)\n"
     ]
    }
   ],
   "source": [
    "# assign to variables\n",
    "X = mnist[\"data\"]\n",
    "y = mnist[\"target\"]\n",
    "\n",
    "# classify the digit 6 and other digits separately\n",
    "pos_digit = 6\n",
    "y_binary = (y == pos_digit).astype(int) # digit 6 = 1, not 6 = 0\n",
    "\n",
    "#verify\n",
    "print(y_binary)\n",
    "\n",
    "# Check the dimensions of both variables\n",
    "print(f'Data dimensions: {X.shape}')\n",
    "print(f'Target dimensions: {y_binary.shape}')"
   ]
  },
  {
   "cell_type": "markdown",
   "id": "124d4d80-1f72-47e7-a3ad-ffe020d1a0e4",
   "metadata": {},
   "source": [
    "Our original data has 784 features and 70000 records, with our new target value (`y_binary`) a list of zeroes and ones corresponding to whether the original digit was a 6 or not."
   ]
  },
  {
   "cell_type": "markdown",
   "id": "743a9a7d-2a26-4ab6-a01e-90a50f7e69ac",
   "metadata": {
    "editable": true,
    "slideshow": {
     "slide_type": ""
    },
    "tags": []
   },
   "source": [
    "## Principal Component Analysis (PCA)\n",
    "Let's conduct PCA on our data set to reduce the dimensionality whilst retaining 88% of the variance.\n",
    "We will do this using the `n_components`, and print the number of principal components preserved."
   ]
  },
  {
   "cell_type": "code",
   "execution_count": 17,
   "id": "de5c9d89-5569-4af6-9d11-5debefebe378",
   "metadata": {},
   "outputs": [
    {
     "name": "stdout",
     "output_type": "stream",
     "text": [
      "Number of Principal Components Preserved: 74\n"
     ]
    }
   ],
   "source": [
    "# conduct PCA\n",
    "pca = PCA(n_components = 0.88)   # retain 88% of variance\n",
    "X_pca = pca.fit_transform(X)     # fit our data for reduction\n",
    "\n",
    "# Number of principal components preserved\n",
    "num_components_preserved = pca.n_components_\n",
    "print(f\"Number of Principal Components Preserved: {num_components_preserved}\")\n"
   ]
  },
  {
   "cell_type": "markdown",
   "id": "b11fc63e-8668-4947-a2d3-d8b3342dcfc3",
   "metadata": {},
   "source": [
    "We will also split our data into an 80/20 ratio split using the new binary target values."
   ]
  },
  {
   "cell_type": "code",
   "execution_count": 18,
   "id": "fe2046bb-2b8e-4762-ac42-be064b31451f",
   "metadata": {
    "editable": true,
    "slideshow": {
     "slide_type": ""
    },
    "tags": []
   },
   "outputs": [
    {
     "name": "stdout",
     "output_type": "stream",
     "text": [
      "(56000, 74)\n",
      "(14000, 74)\n",
      "(56000,)\n",
      "(14000,)\n"
     ]
    }
   ],
   "source": [
    "# Split the data into training and validation sets\n",
    "X_train, X_val, y_train, y_val = train_test_split(X_pca, y_binary, \n",
    "                                                  test_size = 0.2)\n",
    "\n",
    "# Verify the dimensions\n",
    "print(X_train.shape)\n",
    "print(X_val.shape)\n",
    "print(y_train.shape)\n",
    "print(y_val.shape)"
   ]
  },
  {
   "cell_type": "markdown",
   "id": "aab492b1-48f6-483f-9448-9ce6d0a4bac5",
   "metadata": {
    "editable": true,
    "slideshow": {
     "slide_type": ""
    },
    "tags": []
   },
   "source": [
    "We have successfully reduced the dimensions to 74 features.\n",
    "\n",
    "Let's now create a Logistic Regression model using the reduced feature dataset. Because we conducted a dimensional reduction technique (PCA) to our original data, we do not need to scale it again for Logistic Regression. Therefore the warning that appears can be ignored."
   ]
  },
  {
   "cell_type": "code",
   "execution_count": 28,
   "id": "54b6a11b-e732-4a86-8e9a-6375e12b5059",
   "metadata": {},
   "outputs": [
    {
     "name": "stderr",
     "output_type": "stream",
     "text": [
      "/usr/lib/python3.11/site-packages/sklearn/linear_model/_logistic.py:460: ConvergenceWarning: lbfgs failed to converge (status=1):\n",
      "STOP: TOTAL NO. of ITERATIONS REACHED LIMIT.\n",
      "\n",
      "Increase the number of iterations (max_iter) or scale the data as shown in:\n",
      "    https://scikit-learn.org/stable/modules/preprocessing.html\n",
      "Please also refer to the documentation for alternative solver options:\n",
      "    https://scikit-learn.org/stable/modules/linear_model.html#logistic-regression\n",
      "  n_iter_i = _check_optimize_result(\n"
     ]
    },
    {
     "data": {
      "text/html": [
       "<style>#sk-container-id-3 {color: black;}#sk-container-id-3 pre{padding: 0;}#sk-container-id-3 div.sk-toggleable {background-color: white;}#sk-container-id-3 label.sk-toggleable__label {cursor: pointer;display: block;width: 100%;margin-bottom: 0;padding: 0.3em;box-sizing: border-box;text-align: center;}#sk-container-id-3 label.sk-toggleable__label-arrow:before {content: \"▸\";float: left;margin-right: 0.25em;color: #696969;}#sk-container-id-3 label.sk-toggleable__label-arrow:hover:before {color: black;}#sk-container-id-3 div.sk-estimator:hover label.sk-toggleable__label-arrow:before {color: black;}#sk-container-id-3 div.sk-toggleable__content {max-height: 0;max-width: 0;overflow: hidden;text-align: left;background-color: #f0f8ff;}#sk-container-id-3 div.sk-toggleable__content pre {margin: 0.2em;color: black;border-radius: 0.25em;background-color: #f0f8ff;}#sk-container-id-3 input.sk-toggleable__control:checked~div.sk-toggleable__content {max-height: 200px;max-width: 100%;overflow: auto;}#sk-container-id-3 input.sk-toggleable__control:checked~label.sk-toggleable__label-arrow:before {content: \"▾\";}#sk-container-id-3 div.sk-estimator input.sk-toggleable__control:checked~label.sk-toggleable__label {background-color: #d4ebff;}#sk-container-id-3 div.sk-label input.sk-toggleable__control:checked~label.sk-toggleable__label {background-color: #d4ebff;}#sk-container-id-3 input.sk-hidden--visually {border: 0;clip: rect(1px 1px 1px 1px);clip: rect(1px, 1px, 1px, 1px);height: 1px;margin: -1px;overflow: hidden;padding: 0;position: absolute;width: 1px;}#sk-container-id-3 div.sk-estimator {font-family: monospace;background-color: #f0f8ff;border: 1px dotted black;border-radius: 0.25em;box-sizing: border-box;margin-bottom: 0.5em;}#sk-container-id-3 div.sk-estimator:hover {background-color: #d4ebff;}#sk-container-id-3 div.sk-parallel-item::after {content: \"\";width: 100%;border-bottom: 1px solid gray;flex-grow: 1;}#sk-container-id-3 div.sk-label:hover label.sk-toggleable__label {background-color: #d4ebff;}#sk-container-id-3 div.sk-serial::before {content: \"\";position: absolute;border-left: 1px solid gray;box-sizing: border-box;top: 0;bottom: 0;left: 50%;z-index: 0;}#sk-container-id-3 div.sk-serial {display: flex;flex-direction: column;align-items: center;background-color: white;padding-right: 0.2em;padding-left: 0.2em;position: relative;}#sk-container-id-3 div.sk-item {position: relative;z-index: 1;}#sk-container-id-3 div.sk-parallel {display: flex;align-items: stretch;justify-content: center;background-color: white;position: relative;}#sk-container-id-3 div.sk-item::before, #sk-container-id-3 div.sk-parallel-item::before {content: \"\";position: absolute;border-left: 1px solid gray;box-sizing: border-box;top: 0;bottom: 0;left: 50%;z-index: -1;}#sk-container-id-3 div.sk-parallel-item {display: flex;flex-direction: column;z-index: 1;position: relative;background-color: white;}#sk-container-id-3 div.sk-parallel-item:first-child::after {align-self: flex-end;width: 50%;}#sk-container-id-3 div.sk-parallel-item:last-child::after {align-self: flex-start;width: 50%;}#sk-container-id-3 div.sk-parallel-item:only-child::after {width: 0;}#sk-container-id-3 div.sk-dashed-wrapped {border: 1px dashed gray;margin: 0 0.4em 0.5em 0.4em;box-sizing: border-box;padding-bottom: 0.4em;background-color: white;}#sk-container-id-3 div.sk-label label {font-family: monospace;font-weight: bold;display: inline-block;line-height: 1.2em;}#sk-container-id-3 div.sk-label-container {text-align: center;}#sk-container-id-3 div.sk-container {/* jupyter's `normalize.less` sets `[hidden] { display: none; }` but bootstrap.min.css set `[hidden] { display: none !important; }` so we also need the `!important` here to be able to override the default hidden behavior on the sphinx rendered scikit-learn.org. See: https://github.com/scikit-learn/scikit-learn/issues/21755 */display: inline-block !important;position: relative;}#sk-container-id-3 div.sk-text-repr-fallback {display: none;}</style><div id=\"sk-container-id-3\" class=\"sk-top-container\"><div class=\"sk-text-repr-fallback\"><pre>LogisticRegression(random_state=3032)</pre><b>In a Jupyter environment, please rerun this cell to show the HTML representation or trust the notebook. <br />On GitHub, the HTML representation is unable to render, please try loading this page with nbviewer.org.</b></div><div class=\"sk-container\" hidden><div class=\"sk-item\"><div class=\"sk-estimator sk-toggleable\"><input class=\"sk-toggleable__control sk-hidden--visually\" id=\"sk-estimator-id-3\" type=\"checkbox\" checked><label for=\"sk-estimator-id-3\" class=\"sk-toggleable__label sk-toggleable__label-arrow\">LogisticRegression</label><div class=\"sk-toggleable__content\"><pre>LogisticRegression(random_state=3032)</pre></div></div></div></div></div>"
      ],
      "text/plain": [
       "LogisticRegression(random_state=3032)"
      ]
     },
     "execution_count": 28,
     "metadata": {},
     "output_type": "execute_result"
    }
   ],
   "source": [
    "# Train a logistic regression model on training data\n",
    "log_reg = LogisticRegression(random_state = random_seed)\n",
    "log_reg.fit(X_train, y_train)  \n"
   ]
  },
  {
   "cell_type": "markdown",
   "id": "b2100780-27c6-4cf8-8c52-2e0d23e29f11",
   "metadata": {},
   "source": [
    "Let's now predict the digits for the training set and validation (test) sets, and calculate the accuracy of the model on the training set."
   ]
  },
  {
   "cell_type": "code",
   "execution_count": 29,
   "id": "70932250-88ff-4b95-a923-fc4d63c878e0",
   "metadata": {},
   "outputs": [
    {
     "name": "stdout",
     "output_type": "stream",
     "text": [
      "Training Accuracy: 98.68%\n"
     ]
    }
   ],
   "source": [
    "# Predict the digit for the training dataset\n",
    "y_train_pred = log_reg.predict(X_train)\n",
    "\n",
    "# Predict the digit for the validation dataset\n",
    "y_val_pred = log_reg.predict(X_val)\n",
    "\n",
    "# Prediction accuracy on the training set\n",
    "train_accuracy = accuracy_score(y_train, y_train_pred)\n",
    "print(f\"Training Accuracy: {train_accuracy*100:.2f}%\")"
   ]
  },
  {
   "cell_type": "markdown",
   "id": "8f6b7918-86c7-489d-af46-dd231c59e542",
   "metadata": {},
   "source": [
    "Our model has good accuracy on our training set (**98.68%**) which is expected - but how would it fare on our validation set? We will use the confusion matrix to label our misclassified digits and calculate the accuracy on our validation (test) set"
   ]
  },
  {
   "cell_type": "code",
   "execution_count": 30,
   "id": "c91ab290-e615-4ac2-ae64-609cbef1d525",
   "metadata": {},
   "outputs": [
    {
     "name": "stdout",
     "output_type": "stream",
     "text": [
      "Testing Accuracy: 98.57%\n"
     ]
    },
    {
     "data": {
      "image/png": "[encoded data removed]",
      "text/plain": [
       "<Figure size 640x480 with 2 Axes>"
      ]
     },
     "metadata": {},
     "output_type": "display_data"
    }
   ],
   "source": [
    "# Prediction accuracy\n",
    "test_accuracy = accuracy_score(y_val, y_val_pred)\n",
    "\n",
    "print(f\"Testing Accuracy: {test_accuracy*100:.2f}%\")\n",
    "\n",
    "#  confusion matrix\n",
    "cm = confusion_matrix(y_val, y_val_pred)\n",
    "\n",
    "\n",
    "# plot the confusion matrix as a heatmap\n",
    "# viz from https://www.w3schools.com/python/python_ml_confusion_matrix.asp\n",
    "cm_display = ConfusionMatrixDisplay(confusion_matrix = cm, \n",
    "                                    display_labels = [False, True])\n",
    "\n",
    "cm_display.plot()\n",
    "plt.show() \n"
   ]
  },
  {
   "cell_type": "code",
   "execution_count": 31,
   "id": "fe519963-0205-496c-87fc-e3781cbc20bb",
   "metadata": {},
   "outputs": [
    {
     "name": "stdout",
     "output_type": "stream",
     "text": [
      "Misclassified Digit Indices:\n",
      "[   47    63    94   367   395   428   490   533   582   703   721   722\n",
      "   827   838   903   953  1006  1066  1140  1181  1224  1245  1343  1386\n",
      "  1456  1463  1501  1557  1584  1644  1687  1713  1792  1841  1872  1910\n",
      "  2028  2106  2138  2250  2293  2303  2337  2438  2477  2528  2559  2594\n",
      "  2620  2657  2666  2814  2861  2878  2941  3195  3196  3233  3307  3433\n",
      "  3459  3516  3613  3624  3908  3954  3974  4092  4295  4298  4340  4396\n",
      "  4611  4628  4654  4692  4713  4788  4812  4843  4880  5061  5118  5327\n",
      "  5425  5532  5575  5587  5591  5695  5718  5785  5800  5850  5855  5856\n",
      "  5895  5963  6037  6109  6149  6249  6388  6746  6747  6840  6913  6986\n",
      "  6991  7081  7171  7256  7292  7299  7313  7341  7393  7500  7637  7783\n",
      "  7809  7861  7892  7973  8020  8027  8106  8224  8476  8548  8671  8814\n",
      "  8846  8986  9020  9036  9222  9319  9367  9425  9445  9488  9506  9555\n",
      "  9629  9694  9737  9756  9918  9939  9998 10006 10123 10197 10325 10374\n",
      " 10533 10665 10694 10721 10738 10866 10928 11027 11050 11467 11529 11543\n",
      " 11685 11821 11929 12069 12371 12391 12415 12452 12491 12496 12497 12607\n",
      " 12705 12966 12994 13027 13040 13049 13088 13163 13189 13355 13389 13417\n",
      " 13474 13489 13543 13587 13666 13697 13731 13778]\n"
     ]
    }
   ],
   "source": [
    "# Locate the indices of the misclassified labels\n",
    "misclassified_indices = np.where(y_val != y_val_pred)[0]\n",
    "\n",
    "# print it\n",
    "print(\"Misclassified Digit Indices:\")\n",
    "print(misclassified_indices)"
   ]
  },
  {
   "cell_type": "markdown",
   "id": "4c96b816-31fd-4f4b-b880-19adf904de84",
   "metadata": {},
   "source": [
    "### Q7 What do you think of the model generated (good, underfit, overfit)? Briefly explain why."
   ]
  },
  {
   "cell_type": "markdown",
   "id": "c092b098-f891-4316-99f5-28f56e9704b8",
   "metadata": {},
   "source": [
    "**Analysis**\n",
    "    \n",
    "The fact that both training (98.68%) and testing (98.57%) accuracies are very high and close to each other suggests that the model is likely learning the underlying patterns in the data well. The model generalizes effectively from the training data to unseen testing data, which is a positive sign.\n",
    "\n",
    "The confusion matrix also indicates low error rates, with relatively few false positives and false negatives. This further supports the notion that the model is making accurate predictions.\n",
    "\n",
    "Given these observations, the model is likely a good fit for the task of distinguishing the digit \"6\" from other digits in the MNIST dataset. It does not appear to be overfitting or underfitting and is performing at a high level of accuracy on both training and testing data. "
   ]
  },
  {
   "cell_type": "markdown",
   "id": "33221157-d3ad-41c0-be71-f9e5f3a4e855",
   "metadata": {},
   "source": [
    "***"
   ]
  }
 ],
 "metadata": {
  "kernelspec": {
   "display_name": "Python 3 (ipykernel)",
   "language": "python",
   "name": "python3"
  },
  "language_info": {
   "codemirror_mode": {
    "name": "ipython",
    "version": 3
   },
   "file_extension": ".py",
   "mimetype": "text/x-python",
   "name": "python",
   "nbconvert_exporter": "python",
   "pygments_lexer": "ipython3",
   "version": "3.11.5"
  }
 },
 "nbformat": 4,
 "nbformat_minor": 5
}
