{
 "cells": [
  {
   "cell_type": "markdown",
   "id": "6657d6d2-2e78-453d-a5b4-819bdee9acfe",
   "metadata": {},
   "source": [
    "**Nowell Kevin Reyes - 20658133**"
   ]
  },
  {
   "cell_type": "markdown",
   "id": "d124ee40-654a-4471-929b-4e9af936223d",
   "metadata": {},
   "source": [
    "# Task 1. Regression "
   ]
  },
  {
   "cell_type": "markdown",
   "id": "04958775-ed16-4f5e-ba5f-9493feec9e63",
   "metadata": {},
   "source": [
    "**Motivation**: Using the dataset `bloodpressure-23.csv`, we will compare different regression models and choose the \"best model fit\" that **TODO**\n"
   ]
  },
  {
   "cell_type": "markdown",
   "id": "df286d8c-61b6-476a-98c0-bf1232fa95c4",
   "metadata": {},
   "source": [
    "Our first task is to load the data and view its properties. We will use the `numpy` and `pandas` libraries to do this. \n",
    "\n",
    "*Note to the marker*: I have also included the `os` module to ensure that the workbook will load in the same folder as the data file (in case of issues)."
   ]
  },
  {
   "cell_type": "code",
   "execution_count": 4,
   "id": "a31e9ca9-8e06-41f4-bcc7-49734e696ea4",
   "metadata": {},
   "outputs": [],
   "source": [
    "# Import required libraries\n",
    "import numpy as np\n",
    "import pandas as pd\n",
    "import os\n",
    "\n",
    "os.chdir('.') # set working directory to current folder"
   ]
  },
  {
   "cell_type": "code",
   "execution_count": 5,
   "id": "7465baeb-7d4d-482c-8b7f-5534bb2406be",
   "metadata": {},
   "outputs": [
    {
     "data": {
      "text/html": [
       "<div>\n",
       "<style scoped>\n",
       "    .dataframe tbody tr th:only-of-type {\n",
       "        vertical-align: middle;\n",
       "    }\n",
       "\n",
       "    .dataframe tbody tr th {\n",
       "        vertical-align: top;\n",
       "    }\n",
       "\n",
       "    .dataframe thead th {\n",
       "        text-align: right;\n",
       "    }\n",
       "</style>\n",
       "<table border=\"1\" class=\"dataframe\">\n",
       "  <thead>\n",
       "    <tr style=\"text-align: right;\">\n",
       "      <th></th>\n",
       "      <th>ID-NUMBER</th>\n",
       "      <th>AGE</th>\n",
       "      <th>ED-LEVEL</th>\n",
       "      <th>SMOKING STATUS</th>\n",
       "      <th>EXERCISE</th>\n",
       "      <th>WEIGHT</th>\n",
       "      <th>SERUM-CHOL</th>\n",
       "      <th>SYSTOLIC</th>\n",
       "      <th>IQ</th>\n",
       "      <th>SODIUM</th>\n",
       "      <th>GENDER</th>\n",
       "      <th>MARITAL-STATUS</th>\n",
       "      <th>NAME</th>\n",
       "    </tr>\n",
       "  </thead>\n",
       "  <tbody>\n",
       "    <tr>\n",
       "      <th>0</th>\n",
       "      <td>1</td>\n",
       "      <td>27</td>\n",
       "      <td>2</td>\n",
       "      <td>1</td>\n",
       "      <td>1</td>\n",
       "      <td>120</td>\n",
       "      <td>193</td>\n",
       "      <td>126</td>\n",
       "      <td>118</td>\n",
       "      <td>136</td>\n",
       "      <td>F</td>\n",
       "      <td>M</td>\n",
       "      <td>Braund, Mr. Owen Harris</td>\n",
       "    </tr>\n",
       "    <tr>\n",
       "      <th>1</th>\n",
       "      <td>2</td>\n",
       "      <td>18</td>\n",
       "      <td>1</td>\n",
       "      <td>0</td>\n",
       "      <td>1</td>\n",
       "      <td>145</td>\n",
       "      <td>210</td>\n",
       "      <td>120</td>\n",
       "      <td>105</td>\n",
       "      <td>137</td>\n",
       "      <td>M</td>\n",
       "      <td>S</td>\n",
       "      <td>Cumings, Mrs. John Bradley (Florence Briggs Th...</td>\n",
       "    </tr>\n",
       "    <tr>\n",
       "      <th>2</th>\n",
       "      <td>3</td>\n",
       "      <td>32</td>\n",
       "      <td>2</td>\n",
       "      <td>0</td>\n",
       "      <td>0</td>\n",
       "      <td>118</td>\n",
       "      <td>196</td>\n",
       "      <td>128</td>\n",
       "      <td>115</td>\n",
       "      <td>135</td>\n",
       "      <td>F</td>\n",
       "      <td>M</td>\n",
       "      <td>Heikkinen, Miss. Laina</td>\n",
       "    </tr>\n",
       "    <tr>\n",
       "      <th>3</th>\n",
       "      <td>4</td>\n",
       "      <td>24</td>\n",
       "      <td>2</td>\n",
       "      <td>0</td>\n",
       "      <td>1</td>\n",
       "      <td>162</td>\n",
       "      <td>208</td>\n",
       "      <td>129</td>\n",
       "      <td>108</td>\n",
       "      <td>142</td>\n",
       "      <td>M</td>\n",
       "      <td>M</td>\n",
       "      <td>Futrelle, Mrs. Jacques Heath (Lily May Peel)</td>\n",
       "    </tr>\n",
       "    <tr>\n",
       "      <th>4</th>\n",
       "      <td>5</td>\n",
       "      <td>19</td>\n",
       "      <td>1</td>\n",
       "      <td>2</td>\n",
       "      <td>0</td>\n",
       "      <td>106</td>\n",
       "      <td>188</td>\n",
       "      <td>119</td>\n",
       "      <td>106</td>\n",
       "      <td>133</td>\n",
       "      <td>F</td>\n",
       "      <td>S</td>\n",
       "      <td>Allen, Mr. William Henry</td>\n",
       "    </tr>\n",
       "  </tbody>\n",
       "</table>\n",
       "</div>"
      ],
      "text/plain": [
       "   ID-NUMBER  AGE  ED-LEVEL  SMOKING STATUS  EXERCISE  WEIGHT  SERUM-CHOL  \\\n",
       "0          1   27         2               1         1     120         193   \n",
       "1          2   18         1               0         1     145         210   \n",
       "2          3   32         2               0         0     118         196   \n",
       "3          4   24         2               0         1     162         208   \n",
       "4          5   19         1               2         0     106         188   \n",
       "\n",
       "   SYSTOLIC   IQ  SODIUM GENDER MARITAL-STATUS  \\\n",
       "0       126  118     136      F              M   \n",
       "1       120  105     137      M              S   \n",
       "2       128  115     135      F              M   \n",
       "3       129  108     142      M              M   \n",
       "4       119  106     133      F              S   \n",
       "\n",
       "                                                NAME  \n",
       "0                            Braund, Mr. Owen Harris  \n",
       "1  Cumings, Mrs. John Bradley (Florence Briggs Th...  \n",
       "2                             Heikkinen, Miss. Laina  \n",
       "3       Futrelle, Mrs. Jacques Heath (Lily May Peel)  \n",
       "4                           Allen, Mr. William Henry  "
      ]
     },
     "execution_count": 5,
     "metadata": {},
     "output_type": "execute_result"
    }
   ],
   "source": [
    "# load the data\n",
    "df = pd.read_csv(\"bloodpressure-23.csv\")\n",
    "\n",
    "# view the head of the data\n",
    "df.head()"
   ]
  },
  {
   "cell_type": "code",
   "execution_count": null,
   "id": "2cc2a352-2bcc-4ae3-b568-2ac8f012f31d",
   "metadata": {},
   "outputs": [],
   "source": []
  }
 ],
 "metadata": {
  "kernelspec": {
   "display_name": "Python 3 (ipykernel)",
   "language": "python",
   "name": "python3"
  },
  "language_info": {
   "codemirror_mode": {
    "name": "ipython",
    "version": 3
   },
   "file_extension": ".py",
   "mimetype": "text/x-python",
   "name": "python",
   "nbconvert_exporter": "python",
   "pygments_lexer": "ipython3",
   "version": "3.11.5"
  }
 },
 "nbformat": 4,
 "nbformat_minor": 5
}
