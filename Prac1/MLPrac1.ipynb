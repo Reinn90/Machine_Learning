{
 "cells": [
  {
   "cell_type": "markdown",
   "id": "4af53425-fd11-4f61-8972-e16631b998f9",
   "metadata": {},
   "source": [
    "# ML Practical Lab 1"
   ]
  },
  {
   "cell_type": "markdown",
   "id": "a452d2e7-ec4f-487d-8abe-3832c4f67579",
   "metadata": {},
   "source": [
    "## What is supervised learning? What is unsupervised learning? What is reinforcement learning?\n",
    "\n",
    "- **Supervised learning**\n",
    "    - Training data contains the preferred answers (target variable)\n",
    "    - **Goal**: to predict the future by learning from a model of labeled training data\n",
    "    - Examples\n",
    "        - Linear Regression\n",
    "        - Classification \n",
    "- **Unsupervised learning**\n",
    "    - Starts with training data without labels\n",
    "    - **Goal** is to group unlabelled data based on some connections (clustering)\n",
    "    - Examples:\n",
    "        - Clustering\n",
    "    \t- Unsupervised Anomaly Detection   \n",
    "- **Reinforcement learning**\n",
    "    - Can observe the environment\n",
    "    - Select and perform actions\n",
    "    - Get rewards and penalties in return\n",
    "    - learn by itself what is the best strategy to get the most reward over time\n",
    "\n",
    "### Differences\n",
    "\n",
    "**Supervised Learning** - labelled data, have feedback, predict future/outcome\n",
    "\n",
    "**Unsupervised Learning** - no labels, no feedback, find hidden structures in data\n",
    "\n",
    "**Reinforcement Learning** - no labels, reward system, learn from series of actions"
   ]
  },
  {
   "cell_type": "markdown",
   "id": "dce55cd6-b89d-4ef0-8514-30c4a5e4ab22",
   "metadata": {},
   "source": [
    "## Write a program which asks users to enter five numbers, and then prints out the largest of the five numbers"
   ]
  },
  {
   "cell_type": "code",
   "execution_count": 1,
   "id": "e177729c-d4e1-41d6-9741-dedbc2ef559a",
   "metadata": {},
   "outputs": [
    {
     "name": "stdin",
     "output_type": "stream",
     "text": [
      "Enter number 1:  9\n",
      "Enter number 2:  23\n",
      "Enter number 3:  4\n",
      "Enter number 4:  5\n",
      "Enter number 5:  6\n"
     ]
    },
    {
     "name": "stdout",
     "output_type": "stream",
     "text": [
      "The largest number is: 23.0\n"
     ]
    }
   ],
   "source": [
    "  \n",
    "def get_largest_number(numbers):\n",
    "    largest = numbers[0]\n",
    "    for num in numbers:\n",
    "        if num > largest:\n",
    "            largest = num\n",
    "    return largest\n",
    "\n",
    "def main():\n",
    "    try:\n",
    "        numbers = []\n",
    "        for i in range(5):\n",
    "            num = float(input(f'Enter number {i+1}: '))\n",
    "            numbers.append(num)\n",
    "            \n",
    "        Lnum = get_largest_number(numbers)\n",
    "        print(f'The largest number is: {Lnum}')\n",
    "        \n",
    "    except ValueError:\n",
    "        print(\"Invalid input. Please enter valid numbers.\")\n",
    "        \n",
    "        \n",
    "if __name__ == \"__main__\":\n",
    "    main()\n"
   ]
  },
  {
   "cell_type": "markdown",
   "id": "04064c41-12d4-441b-be3e-fff1c3d9a389",
   "metadata": {},
   "source": [
    "## Use NumPy to do the following:\n",
    "1) Create a 2x3 matrix A with random integers between 0 and 10, print it\n",
    "2) Create a 3x4 matrix B with random integers between 0 and 3, print it.\n",
    "3) Calculate A’s transpose, print it\n",
    "4) Calculate the dot product of A and B, print it"
   ]
  },
  {
   "cell_type": "code",
   "execution_count": 2,
   "id": "3a2ef440-922f-4628-ab91-19d171d9033d",
   "metadata": {},
   "outputs": [
    {
     "name": "stdout",
     "output_type": "stream",
     "text": [
      "Matrix A: \n",
      "[ 5 10  4]\n",
      "[3 8 2]\n",
      "\n",
      "Matrix B: \n",
      "[1 3 3 0]\n",
      "[2 0 1 0]\n",
      "[3 3 1 0]\n",
      "\n",
      "Matrix A's transpose: \n",
      "[5 3]\n",
      "[10  8]\n",
      "[4 2]\n",
      "\n",
      "Dot product of A and B: \n",
      "[37 27 29  0]\n",
      "[25 15 19  0]\n"
     ]
    }
   ],
   "source": [
    "import numpy as np\n",
    "\n",
    "def create_random_matrix(r,c,min_val,max_val):\n",
    "    return np.random.randint(min_val,max_val+1, size = (r,c))\n",
    "\n",
    "def print_matrix(matrix):\n",
    "    for row in matrix:\n",
    "        print(row)\n",
    "        \n",
    "def main():\n",
    "    \n",
    "    # 1. Create 2x3 Matrix A with random integers between 0 and 10\n",
    "    Arow = 2\n",
    "    Acol = 3\n",
    "    Amin_value = 0\n",
    "    Amax_value = 10\n",
    "    \n",
    "    matrix_A = create_random_matrix(Arow,Acol,Amin_value,Amax_value)\n",
    "    print(\"Matrix A: \")\n",
    "    print_matrix(matrix_A)\n",
    "    \n",
    "    # 2. Create 3x4 Matrix B with random integers between 0 and 3\n",
    "    Brow = 3\n",
    "    Bcol = 4\n",
    "    Bmin_value = 0\n",
    "    Bmax_value = 3\n",
    "    \n",
    "    matrix_B = create_random_matrix(Brow,Bcol,Bmin_value,Bmax_value)\n",
    "    print(\"\\nMatrix B: \")\n",
    "    print_matrix(matrix_B)\n",
    "    \n",
    "    # 3. Calculate A's transpose and print it\n",
    "    matrix_A_transpose = np.transpose(matrix_A)\n",
    "    print(\"\\nMatrix A's transpose: \")\n",
    "    print_matrix(matrix_A_transpose)\n",
    "    \n",
    "    # 4. Calculate the dot product of A and B\n",
    "    matrix_dot_product = np.dot(matrix_A, matrix_B)\n",
    "    print(\"\\nDot product of A and B: \")\n",
    "    print_matrix(matrix_dot_product)\n",
    "    \n",
    "    \n",
    "    \n",
    "if __name__ == \"__main__\":\n",
    "    main()"
   ]
  },
  {
   "cell_type": "markdown",
   "id": "601e68a6-d920-49b7-9854-aebcc2e9d2cf",
   "metadata": {},
   "source": [
    "## Creating Pandas DataFrames\n",
    "Generate the following table. Create a list, and then create a Panda DataFrames from the list and print it.\n",
    "\n",
    "|make|model|year|fuel|\n",
    "|---|---|---|---|\n",
    "0|Ford|Everest|2016|Diesel|\n",
    "1|Toyota|Kluger|2005|Petrol|\n",
    "2|Hyundai|Santa Fe|2010|Diesel\n",
    "3|Honda|CR-V|2018|Petrol\n",
    "4|Subaru|Forrester|2017|Petrol"
   ]
  },
  {
   "cell_type": "code",
   "execution_count": 3,
   "id": "667b7a2a-d045-4026-9e58-4006bafb773c",
   "metadata": {},
   "outputs": [
    {
     "name": "stdout",
     "output_type": "stream",
     "text": [
      "      make      model  year    fuel\n",
      "0     Ford    Everest  2016  Diesel\n",
      "1   Toyota     Kluger  2005  Petrol\n",
      "2  Hyundai   Santa Fe  2010  Diesel\n",
      "3    Honda       CR-V  2018  Petrol\n",
      "4   Subaru  Forrester  2017  Petrol\n"
     ]
    }
   ],
   "source": [
    "import pandas as pd\n",
    "\n",
    "d = {'make' : ['Ford','Toyota','Hyundai','Honda','Subaru'],\n",
    "        'model' : ['Everest','Kluger','Santa Fe','CR-V','Forrester'],\n",
    "        'year' : [2016,2005,2010,2018,2017],\n",
    "        'fuel' : ['Diesel','Petrol','Diesel','Petrol','Petrol']\n",
    "        }\n",
    "\n",
    "df = pd.DataFrame(d)\n",
    "print(df)"
   ]
  },
  {
   "cell_type": "markdown",
   "id": "7e0b7b2b-93f7-4bf0-be07-2916692f9740",
   "metadata": {},
   "source": [
    "## Create a DataFrame from external source such as a csv file using the `read_csv('<path>')` function. "
   ]
  },
  {
   "cell_type": "code",
   "execution_count": 4,
   "id": "8f9be828-9a21-4262-8d09-59206f5a1222",
   "metadata": {},
   "outputs": [
    {
     "name": "stdout",
     "output_type": "stream",
     "text": [
      "    Car_Name  Year  Selling_Price  Present_Price  Kms_Driven Fuel_Type  \\\n",
      "0       ritz  2014           3.35           5.59       27000    Petrol   \n",
      "1        sx4  2013           4.75           9.54       43000    Diesel   \n",
      "2       ciaz  2017           7.25           9.85        6900    Petrol   \n",
      "3    wagon r  2011           2.85           4.15        5200    Petrol   \n",
      "4      swift  2014           4.60           6.87       42450    Diesel   \n",
      "..       ...   ...            ...            ...         ...       ...   \n",
      "296     city  2016           9.50          11.60       33988    Diesel   \n",
      "297     brio  2015           4.00           5.90       60000    Petrol   \n",
      "298     city  2009           3.35          11.00       87934    Petrol   \n",
      "299     city  2017          11.50          12.50        9000    Diesel   \n",
      "300     brio  2016           5.30           5.90        5464    Petrol   \n",
      "\n",
      "    Seller_Type Transmission  Owner  \n",
      "0        Dealer       Manual      0  \n",
      "1        Dealer       Manual      0  \n",
      "2        Dealer       Manual      0  \n",
      "3        Dealer       Manual      0  \n",
      "4        Dealer       Manual      0  \n",
      "..          ...          ...    ...  \n",
      "296      Dealer       Manual      0  \n",
      "297      Dealer       Manual      0  \n",
      "298      Dealer       Manual      0  \n",
      "299      Dealer       Manual      0  \n",
      "300      Dealer       Manual      0  \n",
      "\n",
      "[301 rows x 9 columns]\n"
     ]
    }
   ],
   "source": [
    "import pandas as pd\n",
    "cars = pd.read_csv('car_data.csv')\n",
    "print(cars)\n"
   ]
  }
 ],
 "metadata": {
  "kernelspec": {
   "display_name": "Python 3 (ipykernel)",
   "language": "python",
   "name": "python3"
  },
  "language_info": {
   "codemirror_mode": {
    "name": "ipython",
    "version": 3
   },
   "file_extension": ".py",
   "mimetype": "text/x-python",
   "name": "python",
   "nbconvert_exporter": "python",
   "pygments_lexer": "ipython3",
   "version": "3.11.5"
  }
 },
 "nbformat": 4,
 "nbformat_minor": 5
}
