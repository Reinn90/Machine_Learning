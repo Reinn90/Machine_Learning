{
 "cells": [
  {
   "cell_type": "markdown",
   "id": "14359573-fabb-437f-9999-c4fa2beb4375",
   "metadata": {},
   "source": [
    "# ML Prac 6"
   ]
  },
  {
   "cell_type": "markdown",
   "id": "cb44ec14-00bd-44b7-a3c0-cae39c4dff42",
   "metadata": {},
   "source": [
    "## Questions"
   ]
  },
  {
   "cell_type": "markdown",
   "id": "6b28ad69-7233-4c38-b99c-a0960e82da22",
   "metadata": {},
   "source": [
    "1. What are the main motivations for reducing a dataset’s dimensionality? Are there any\n",
    "drawbacks?\n"
   ]
  },
  {
   "cell_type": "code",
   "execution_count": null,
   "id": "8dbfaa95-f60b-4134-bd51-b4a233b3593d",
   "metadata": {},
   "outputs": [],
   "source": []
  },
  {
   "cell_type": "markdown",
   "id": "da282021-a50c-4249-98df-cf821e563702",
   "metadata": {},
   "source": [
    "3. What is PCA? What is it used for?\n"
   ]
  },
  {
   "cell_type": "code",
   "execution_count": null,
   "id": "e0497e06-6980-4412-ac27-8fb095bd5e8e",
   "metadata": {},
   "outputs": [],
   "source": []
  },
  {
   "cell_type": "markdown",
   "id": "6b3a3bce-9051-489b-88eb-46aeaa169d0c",
   "metadata": {},
   "source": [
    "4. In what case would you use Incremental PCA?"
   ]
  },
  {
   "cell_type": "code",
   "execution_count": null,
   "id": "3a7b66a7-9d2f-4d67-b83a-f7d4ed12644b",
   "metadata": {},
   "outputs": [],
   "source": []
  },
  {
   "cell_type": "markdown",
   "id": "3c20704d-c21b-4ca5-933d-c0ee0914deaa",
   "metadata": {},
   "source": [
    "## Lab Practice\n",
    "\n",
    "Download, open and run the program tut06.py. Read and understand the program.\n",
    "For the MNIST example,\n",
    "\n",
    "### 1) Understand each figure plotted\n"
   ]
  },
  {
   "cell_type": "code",
   "execution_count": 7,
   "id": "af24b4df-1eef-4c28-a692-b8fdfa307590",
   "metadata": {},
   "outputs": [],
   "source": [
    "import numpy as np\n",
    "import matplotlib.pyplot as plt\n",
    "import matplotlib as mpl\n",
    "\n",
    "x1 = 2 * np.random.rand(100, 1)               # generate linear random data\n",
    "x2 = 4 + 4 * x1 + np.random.randn(100, 1)\n",
    "x3 = x1**2 + x2**2                            \n",
    "\n",
    "X = np.c_[x1, x2, x3] # concatenate and create a 3D array\n",
    "\n",
    "X_centered = X - X.mean(axis=0)               # centre the data for PCA\n",
    "\n",
    "U, s, V = np.linalg.svd(X_centered)           # conduct SVD and\n",
    "c1 = V.T[:, 0]                                # get PC1\n",
    "c2 = V.T[:, 1]                                # get PC2\n",
    "\n",
    "############ projection\n",
    "\n",
    "W2 = V.T[:, :2]                               # weights in 2D\n",
    "X2D = X_centered.dot(W2)\t                  # new 2D representation of the data"
   ]
  },
  {
   "cell_type": "markdown",
   "id": "17fecd8c-4f0d-44f1-a559-103284e5df71",
   "metadata": {},
   "source": [
    "### 2) Change the minimum total variance ratio to preserve to 85%, what is the new dimension? Compare the figures with the 95% case\n"
   ]
  },
  {
   "cell_type": "code",
   "execution_count": null,
   "id": "46bfc39e-fa3f-46db-90f0-7bd16c75368b",
   "metadata": {},
   "outputs": [],
   "source": []
  },
  {
   "cell_type": "markdown",
   "id": "cff92ead-8393-468e-87b4-abc9fbf31fd7",
   "metadata": {},
   "source": [
    "### 3) Change the minimum total variance ratio to preserve to 98%, what is the new dimension? Compare the figures with the previous two cases\n"
   ]
  },
  {
   "cell_type": "code",
   "execution_count": null,
   "id": "aeaf3f63-73ab-4aa2-9703-f344d8ff33ae",
   "metadata": {},
   "outputs": [],
   "source": []
  },
  {
   "cell_type": "markdown",
   "id": "5405b665-b64f-4cac-82f0-2eabd1444ab9",
   "metadata": {},
   "source": [
    "### 4) Add another way to reduce the dimension, based on the variance to preserve, by directly initialising the PCA() object. (using the n components variable)\n"
   ]
  },
  {
   "cell_type": "code",
   "execution_count": null,
   "id": "578662b3-a0fa-476c-b183-932f30ee089b",
   "metadata": {},
   "outputs": [],
   "source": []
  },
  {
   "cell_type": "markdown",
   "id": "5e970132-06d6-401f-900e-e6b044d4efb4",
   "metadata": {},
   "source": [
    "### 5) Suppose you want to reduce the number of dimension to 100, what is the overall\n",
    "preserving variance ratio?"
   ]
  },
  {
   "cell_type": "code",
   "execution_count": null,
   "id": "6e3d2634-15ba-4706-a51d-dbd3f4f21eec",
   "metadata": {},
   "outputs": [],
   "source": []
  }
 ],
 "metadata": {
  "kernelspec": {
   "display_name": "Python 3 (ipykernel)",
   "language": "python",
   "name": "python3"
  },
  "language_info": {
   "codemirror_mode": {
    "name": "ipython",
    "version": 3
   },
   "file_extension": ".py",
   "mimetype": "text/x-python",
   "name": "python",
   "nbconvert_exporter": "python",
   "pygments_lexer": "ipython3",
   "version": "3.11.5"
  }
 },
 "nbformat": 4,
 "nbformat_minor": 5
}
