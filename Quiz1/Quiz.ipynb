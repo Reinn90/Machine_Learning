{
 "cells": [
  {
   "cell_type": "markdown",
   "id": "78716636-cc9e-4a3f-891a-c08d9bd8e7e8",
   "metadata": {},
   "source": [
    "# Quiz"
   ]
  },
  {
   "cell_type": "code",
   "execution_count": 12,
   "id": "87455d11-973e-4552-9988-27756dfd190d",
   "metadata": {},
   "outputs": [],
   "source": [
    "import numpy as np\n",
    "import pandas as pd\n",
    "import matplotlib.pyplot as plt\n",
    "from sklearn.linear_model import LogisticRegression, LinearRegression"
   ]
  },
  {
   "cell_type": "code",
   "execution_count": 13,
   "id": "5d38fd8d-c9ed-4181-b9f4-7ba96affebf1",
   "metadata": {},
   "outputs": [],
   "source": [
    "df = pd.read_csv('stardate.csv')"
   ]
  },
  {
   "cell_type": "code",
   "execution_count": 14,
   "id": "f2bf753a-c0fc-44fb-9d8f-ccdb75bf183a",
   "metadata": {},
   "outputs": [
    {
     "name": "stdout",
     "output_type": "stream",
     "text": [
      "    no    date   stardate\n",
      "0    1  2341.5  23634.100\n",
      "1    2  2346.5  23859.700\n",
      "2    3  2348.5  25102.450\n",
      "3    4  2354.5  32611.400\n",
      "4    5  2355.5  40217.300\n",
      "5    6  2356.5  40840.211\n",
      "6    7  2362.5  39355.500\n",
      "7    8  2363.5  40759.500\n",
      "8    9  2364.5  41986.000\n",
      "9   10  2370.5  47457.100\n",
      "10  11  2373.5  50893.500\n",
      "11  12  2378.5  55352.400\n",
      "12  13  2379.5  56895.950\n"
     ]
    }
   ],
   "source": [
    "print(df)"
   ]
  },
  {
   "cell_type": "code",
   "execution_count": 15,
   "id": "2bcffd9d-c3e7-4447-9036-54e263df2bca",
   "metadata": {},
   "outputs": [
    {
     "name": "stdout",
     "output_type": "stream",
     "text": [
      "Predicted Stardate for year 2334: 15905.2\n"
     ]
    },
    {
     "name": "stderr",
     "output_type": "stream",
     "text": [
      "/usr/lib/python3.11/site-packages/sklearn/base.py:464: UserWarning: X does not have valid feature names, but LinearRegression was fitted with feature names\n",
      "  warnings.warn(\n"
     ]
    }
   ],
   "source": [
    "# Create a linear regression model\n",
    "lin_reg = LinearRegression()\n",
    "lin_reg.fit(df[['date']], df['stardate']) \n",
    "\n",
    "# Predict the stardate for year 2334 (more precisely 2334.5 as the data suggests) \n",
    "X_new = np.array([[2334.5]])  \n",
    "predicted_stardate = lin_reg.predict(X_new)[0]\n",
    "\n",
    "# Print the value rounded to 2 decimal places\n",
    "rounded_stardate = round(predicted_stardate, 2)\n",
    "print(\"Predicted Stardate for year 2334:\", rounded_stardate)"
   ]
  },
  {
   "cell_type": "code",
   "execution_count": null,
   "id": "b95d79cd-7dcd-4721-9b7e-c87be2113a89",
   "metadata": {},
   "outputs": [],
   "source": []
  },
  {
   "cell_type": "code",
   "execution_count": 11,
   "id": "3d4fbd7e-f9fe-4c94-bb1b-b43431d8b4dc",
   "metadata": {},
   "outputs": [
    {
     "name": "stdout",
     "output_type": "stream",
     "text": [
      "         x1        x2  y\n",
      "0  2.684106  2.961538  1\n",
      "1  3.808917  2.530803  1\n",
      "2  6.142419  1.546396  0\n",
      "3  2.543947  3.420954  1\n",
      "4  3.402053  3.198327  1\n"
     ]
    }
   ],
   "source": [
    "df2 = pd.read_csv('q2training.csv')\n",
    "\n",
    "print(df2.head())"
   ]
  },
  {
   "cell_type": "code",
   "execution_count": 36,
   "id": "0d31aad5-e2db-4350-a610-c3318c836e6f",
   "metadata": {},
   "outputs": [
    {
     "name": "stdout",
     "output_type": "stream",
     "text": [
      "[1 0 0]\n",
      "Point [1.85, 2.57] belongs to class blue\n",
      "Point [5.99, 1.55] belongs to class red\n",
      "Point [2.08, 1.13] belongs to class red\n"
     ]
    },
    {
     "name": "stderr",
     "output_type": "stream",
     "text": [
      "/usr/lib/python3.11/site-packages/sklearn/base.py:464: UserWarning: X does not have valid feature names, but LogisticRegression was fitted with feature names\n",
      "  warnings.warn(\n"
     ]
    }
   ],
   "source": [
    "\n",
    "# Create a logistic regression model using liblinear solver\n",
    "log_reg = LogisticRegression(solver='liblinear')\n",
    "X_train = df2[['x1', 'x2']]  # Features\n",
    "y_train = df2['y']  # Target variable\n",
    "log_reg.fit(X_train, y_train)\n",
    "\n",
    "# New points for prediction\n",
    "new_points = [[1.85, 2.57], [5.99, 1.55], [2.08, 1.13]]\n",
    "\n",
    "# Make predictions for the new points\n",
    "predictions = log_reg.predict(new_points)\n",
    "\n",
    "print(predictions)\n",
    "\n",
    "# Print the predictions\n",
    "for point, prediction in zip(new_points, predictions):\n",
    "    color = 'blue' if prediction == 1 else 'red'\n",
    "    print(f\"Point {point} belongs to class {color}\")"
   ]
  },
  {
   "cell_type": "code",
   "execution_count": null,
   "id": "62d3abdb-42ff-4d75-bd62-f9653eb81d3a",
   "metadata": {},
   "outputs": [],
   "source": []
  }
 ],
 "metadata": {
  "kernelspec": {
   "display_name": "Python 3 (ipykernel)",
   "language": "python",
   "name": "python3"
  },
  "language_info": {
   "codemirror_mode": {
    "name": "ipython",
    "version": 3
   },
   "file_extension": ".py",
   "mimetype": "text/x-python",
   "name": "python",
   "nbconvert_exporter": "python",
   "pygments_lexer": "ipython3",
   "version": "3.11.5"
  }
 },
 "nbformat": 4,
 "nbformat_minor": 5
}
